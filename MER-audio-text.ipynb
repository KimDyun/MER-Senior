{
 "cells": [
  {
   "cell_type": "code",
   "execution_count": 2,
   "id": "2d5bfcb5-0a55-4dfe-82d5-4126e264f4a2",
   "metadata": {
    "ExecuteTime": {
     "end_time": "2024-03-21T22:23:58.315086Z",
     "start_time": "2024-03-21T22:23:55.830451Z"
    }
   },
   "outputs": [
    {
     "name": "stderr",
     "output_type": "stream",
     "text": [
      "/home/neuroai/anaconda3/envs/py39_dh/lib/python3.9/site-packages/torch_geometric/typing.py:54: UserWarning: An issue occurred while importing 'pyg-lib'. Disabling its usage. Stacktrace: /lib/x86_64-linux-gnu/libm.so.6: version `GLIBC_2.29' not found (required by /home/neuroai/anaconda3/envs/py39_dh/lib/python3.9/site-packages/libpyg.so)\n",
      "  warnings.warn(f\"An issue occurred while importing 'pyg-lib'. \"\n",
      "/home/neuroai/anaconda3/envs/py39_dh/lib/python3.9/site-packages/torch_geometric/typing.py:110: UserWarning: An issue occurred while importing 'torch-sparse'. Disabling its usage. Stacktrace: /lib/x86_64-linux-gnu/libm.so.6: version `GLIBC_2.29' not found (required by /home/neuroai/anaconda3/envs/py39_dh/lib/python3.9/site-packages/libpyg.so)\n",
      "  warnings.warn(f\"An issue occurred while importing 'torch-sparse'. \"\n"
     ]
    }
   ],
   "source": [
    "import pandas as pd\n",
    "import numpy as np\n",
    "import torch\n",
    "import os\n",
    "import random\n",
    "import easydict\n",
    "\n",
    "import torch\n",
    "import torch.nn as nn\n",
    "\n",
    "from fusion_methods import AutoFusion\n",
    "from DataLoader import *\n",
    "from Functionals import *\n",
    "from Learn import *\n",
    "from Models import *\n",
    "\n",
    "\n",
    "\n",
    "\n",
    "from Save import *\n",
    "from Utils import *"
   ]
  },
  {
   "cell_type": "markdown",
   "source": [
    "# Init"
   ],
   "metadata": {
    "collapsed": false
   },
   "id": "e1f5e93f25856063"
  },
  {
   "cell_type": "code",
   "outputs": [],
   "source": [
    "seed = 20240321\n",
    "\n",
    "random.seed(seed)\n",
    "np.random.seed(seed)\n",
    "os.environ[\"PYTHONHASHSEED\"] = str(seed)\n",
    "torch.manual_seed(seed)\n",
    "torch.cuda.manual_seed(seed)  # type: ignore\n",
    "torch.cuda.manual_seed_all(seed)\n",
    "torch.backends.cudnn.deterministic = True  # type: ignore\n",
    "torch.backends.cudnn.benchmark = False  # type: ignore\n",
    "\n",
    "device = torch.device(\"cuda\" if torch.cuda.is_available() else \"cpu\")\n",
    "\n",
    "args = easydict.EasyDict({\n",
    "    'bus_id': 'PCI_BUS_ID',\n",
    "    'cuda_id': ['0', '1', '2'],\n",
    "\n",
    "    # args for path\n",
    "\n",
    "    'senior_dir_path': './audio_text_features.csv',\n",
    "    'structure_save_path': './save/figures/structure/',\n",
    "    'model_save_path':'./save/model/',\n",
    "    'tensor_save_path':'./save/tensor/',\n",
    "    # args for counts\n",
    "    'n_subjects': 24,\n",
    "    'n_audio_features': 88,\n",
    "    'n_text_features': 768,\n",
    "    'n_features': 856,\n",
    "    'n_samples': 1512,\n",
    "    'n_labels_by_class':151,\n",
    "\n",
    "    # args for running algorithm\n",
    "    'seed': 20240321,\n",
    "    \n",
    "    'de_k': 215,\n",
    "    'k1': 9,\n",
    "    't1': 1,\n",
    "    \n",
    "    'gcn_hid_channels': 256,\n",
    "    'gcn_out_channels': 128,\n",
    "    'proj_hid_channels': 32,\n",
    "    'out_channels': 7,\n",
    "    'learning_rate': 0.005,\n",
    "    'weight_decay':0.0001,\n",
    "    'loss_coefficient': 0.01,\n",
    "    'epochs': 3000,\n",
    "\n",
    "    'ptau': 0.7,\n",
    "    'pf1': 0.2,\n",
    "    'pf2': 0.3,\n",
    "    'pe1': 0.2,\n",
    "    'pe2': 0.3,\n",
    "    'tpf1': 0.7,\n",
    "    'tpf2': 0.7,\n",
    "    'tpe1': 0.7,\n",
    "    'tpe2': 0.7,\n",
    "    'patience': 10\n",
    "})\n"
   ],
   "metadata": {
    "collapsed": false,
    "ExecuteTime": {
     "end_time": "2024-03-21T22:23:58.394681Z",
     "start_time": "2024-03-21T22:23:58.316468Z"
    }
   },
   "id": "8b0169841b7b4dec",
   "execution_count": 3
  },
  {
   "cell_type": "code",
   "outputs": [
    {
     "data": {
      "text/plain": "device(type='cuda')"
     },
     "execution_count": 4,
     "metadata": {},
     "output_type": "execute_result"
    }
   ],
   "source": [
    "device"
   ],
   "metadata": {
    "collapsed": false,
    "ExecuteTime": {
     "end_time": "2024-03-21T22:24:01.040662Z",
     "start_time": "2024-03-21T22:24:01.034174Z"
    }
   },
   "id": "18c7c589e6c5282b",
   "execution_count": 4
  },
  {
   "cell_type": "markdown",
   "source": [
    "# Load data"
   ],
   "metadata": {
    "collapsed": false
   },
   "id": "2ed3165f365b864d"
  },
  {
   "cell_type": "code",
   "outputs": [
    {
     "name": "stdout",
     "output_type": "stream",
     "text": [
      "torch.Size([1512]) torch.int64\n",
      "torch.Size([1512, 88]) torch.float32\n",
      "torch.Size([1512, 768]) torch.float32\n"
     ]
    }
   ],
   "source": [
    "data = pd.read_csv('audio_text_features.csv')\n",
    "\n",
    "label = torch.from_numpy(data['Label'].to_numpy()).to(torch.long)\n",
    "audio = torch.from_numpy(data.loc[:,'audio_feature1':'audio_feature88'].to_numpy()).to(torch.float32)\n",
    "text = torch.from_numpy(data.loc[:, 'text_feature1':].to_numpy()).to(torch.float32)\n",
    "print(label.shape, label.dtype)\n",
    "print(audio.shape, audio.dtype)\n",
    "print(text.shape, text.dtype)"
   ],
   "metadata": {
    "collapsed": false,
    "ExecuteTime": {
     "end_time": "2024-03-21T22:24:02.478409Z",
     "start_time": "2024-03-21T22:24:02.328976Z"
    }
   },
   "id": "10ba125fbd7bdf71",
   "execution_count": 5
  },
  {
   "cell_type": "code",
   "outputs": [
    {
     "data": {
      "text/plain": "          file  Label  audio_length  audio_feature1  audio_feature2  \\\n0     Sub01_a1      0      6.500000       28.788942        0.309829   \n1     Sub01_a2      0      8.083333       28.920060        0.271033   \n2     Sub01_a3      0      4.916667       27.654469        0.296198   \n3     Sub01_a4      0      5.250000       29.085270        0.253985   \n4     Sub01_a5      0      8.125000       28.662527        0.272022   \n...        ...    ...           ...             ...             ...   \n1507  Sub30_g5      6     10.466667       20.274664        0.257152   \n1508  Sub30_g6      6      8.733333       19.639650        0.285645   \n1509  Sub30_g7      6      8.800000       19.295887        0.298035   \n1510  Sub30_g8      6     10.733333       19.129637        0.280693   \n1511  Sub30_g9      6     10.733333       19.731976        0.286535   \n\n      audio_feature3  audio_feature4  audio_feature5  audio_feature6  \\\n0          13.366469       32.531185       35.282223       21.915752   \n1          24.236807       32.112198       33.583893        9.347086   \n2          13.141718       31.445354       33.059586       19.917868   \n3          25.799112       32.057404       33.584910        7.785799   \n4          22.840014       31.862585       33.586594       10.746580   \n...              ...             ...             ...             ...   \n1507       13.316469       22.382391       24.655754       11.339285   \n1508       12.824641       22.285406       24.579088       11.754447   \n1509       12.951897       21.393229       24.657038       11.705141   \n1510       12.905231       21.626654       24.222975       11.317744   \n1511       12.906751       21.745783       25.196392       12.289641   \n\n      audio_feature7  ...  text_feature759  text_feature760  text_feature761  \\\n0         122.668430  ...         0.070970         0.256422         0.249997   \n1         150.552470  ...        -0.097131         0.124895         0.167208   \n2          34.554985  ...         0.073111         0.202676         0.173619   \n3         380.644300  ...         0.039497         0.163971         0.306387   \n4         195.374130  ...         0.033405         0.198363         0.300925   \n...              ...  ...              ...              ...              ...   \n1507      122.531510  ...        -0.003371         0.272633         0.204179   \n1508      210.436450  ...         0.116483         0.257295         0.181340   \n1509      131.742230  ...        -0.072002         0.154574         0.283339   \n1510      182.370400  ...         0.057107         0.120299         0.061530   \n1511      258.701780  ...        -0.044978         0.198611         0.266224   \n\n      text_feature762  text_feature763  text_feature764  text_feature765  \\\n0           -0.025562        -0.074572        -0.405840         0.155058   \n1            0.020567        -0.231155        -0.359346        -0.087718   \n2           -0.027530        -0.074597        -0.433110         0.022197   \n3            0.043279        -0.554354        -0.405674        -0.064010   \n4           -0.043898        -0.036387        -0.409670         0.072677   \n...               ...              ...              ...              ...   \n1507        -0.109836        -0.067147        -0.456037        -0.013331   \n1508        -0.079939        -0.210461        -0.480470         0.058964   \n1509        -0.073323        -0.191571        -0.395051         0.098819   \n1510        -0.058706        -0.393576        -0.277797         0.018282   \n1511         0.028704        -0.072790        -0.481333         0.114761   \n\n      text_feature766  text_feature767  text_feature768  \n0           -0.132768        -0.237525        -0.156939  \n1           -0.121685        -0.312636         0.202202  \n2           -0.181147        -0.149919        -0.043900  \n3           -0.206992        -0.271196        -0.152854  \n4           -0.098308        -0.198373        -0.092416  \n...               ...              ...              ...  \n1507        -0.125618        -0.202032        -0.128672  \n1508        -0.094436        -0.154361        -0.289280  \n1509        -0.349565        -0.088541        -0.358817  \n1510        -0.296795        -0.098138         0.146109  \n1511        -0.278598        -0.122786        -0.131715  \n\n[1512 rows x 859 columns]",
      "text/html": "<div>\n<style scoped>\n    .dataframe tbody tr th:only-of-type {\n        vertical-align: middle;\n    }\n\n    .dataframe tbody tr th {\n        vertical-align: top;\n    }\n\n    .dataframe thead th {\n        text-align: right;\n    }\n</style>\n<table border=\"1\" class=\"dataframe\">\n  <thead>\n    <tr style=\"text-align: right;\">\n      <th></th>\n      <th>file</th>\n      <th>Label</th>\n      <th>audio_length</th>\n      <th>audio_feature1</th>\n      <th>audio_feature2</th>\n      <th>audio_feature3</th>\n      <th>audio_feature4</th>\n      <th>audio_feature5</th>\n      <th>audio_feature6</th>\n      <th>audio_feature7</th>\n      <th>...</th>\n      <th>text_feature759</th>\n      <th>text_feature760</th>\n      <th>text_feature761</th>\n      <th>text_feature762</th>\n      <th>text_feature763</th>\n      <th>text_feature764</th>\n      <th>text_feature765</th>\n      <th>text_feature766</th>\n      <th>text_feature767</th>\n      <th>text_feature768</th>\n    </tr>\n  </thead>\n  <tbody>\n    <tr>\n      <th>0</th>\n      <td>Sub01_a1</td>\n      <td>0</td>\n      <td>6.500000</td>\n      <td>28.788942</td>\n      <td>0.309829</td>\n      <td>13.366469</td>\n      <td>32.531185</td>\n      <td>35.282223</td>\n      <td>21.915752</td>\n      <td>122.668430</td>\n      <td>...</td>\n      <td>0.070970</td>\n      <td>0.256422</td>\n      <td>0.249997</td>\n      <td>-0.025562</td>\n      <td>-0.074572</td>\n      <td>-0.405840</td>\n      <td>0.155058</td>\n      <td>-0.132768</td>\n      <td>-0.237525</td>\n      <td>-0.156939</td>\n    </tr>\n    <tr>\n      <th>1</th>\n      <td>Sub01_a2</td>\n      <td>0</td>\n      <td>8.083333</td>\n      <td>28.920060</td>\n      <td>0.271033</td>\n      <td>24.236807</td>\n      <td>32.112198</td>\n      <td>33.583893</td>\n      <td>9.347086</td>\n      <td>150.552470</td>\n      <td>...</td>\n      <td>-0.097131</td>\n      <td>0.124895</td>\n      <td>0.167208</td>\n      <td>0.020567</td>\n      <td>-0.231155</td>\n      <td>-0.359346</td>\n      <td>-0.087718</td>\n      <td>-0.121685</td>\n      <td>-0.312636</td>\n      <td>0.202202</td>\n    </tr>\n    <tr>\n      <th>2</th>\n      <td>Sub01_a3</td>\n      <td>0</td>\n      <td>4.916667</td>\n      <td>27.654469</td>\n      <td>0.296198</td>\n      <td>13.141718</td>\n      <td>31.445354</td>\n      <td>33.059586</td>\n      <td>19.917868</td>\n      <td>34.554985</td>\n      <td>...</td>\n      <td>0.073111</td>\n      <td>0.202676</td>\n      <td>0.173619</td>\n      <td>-0.027530</td>\n      <td>-0.074597</td>\n      <td>-0.433110</td>\n      <td>0.022197</td>\n      <td>-0.181147</td>\n      <td>-0.149919</td>\n      <td>-0.043900</td>\n    </tr>\n    <tr>\n      <th>3</th>\n      <td>Sub01_a4</td>\n      <td>0</td>\n      <td>5.250000</td>\n      <td>29.085270</td>\n      <td>0.253985</td>\n      <td>25.799112</td>\n      <td>32.057404</td>\n      <td>33.584910</td>\n      <td>7.785799</td>\n      <td>380.644300</td>\n      <td>...</td>\n      <td>0.039497</td>\n      <td>0.163971</td>\n      <td>0.306387</td>\n      <td>0.043279</td>\n      <td>-0.554354</td>\n      <td>-0.405674</td>\n      <td>-0.064010</td>\n      <td>-0.206992</td>\n      <td>-0.271196</td>\n      <td>-0.152854</td>\n    </tr>\n    <tr>\n      <th>4</th>\n      <td>Sub01_a5</td>\n      <td>0</td>\n      <td>8.125000</td>\n      <td>28.662527</td>\n      <td>0.272022</td>\n      <td>22.840014</td>\n      <td>31.862585</td>\n      <td>33.586594</td>\n      <td>10.746580</td>\n      <td>195.374130</td>\n      <td>...</td>\n      <td>0.033405</td>\n      <td>0.198363</td>\n      <td>0.300925</td>\n      <td>-0.043898</td>\n      <td>-0.036387</td>\n      <td>-0.409670</td>\n      <td>0.072677</td>\n      <td>-0.098308</td>\n      <td>-0.198373</td>\n      <td>-0.092416</td>\n    </tr>\n    <tr>\n      <th>...</th>\n      <td>...</td>\n      <td>...</td>\n      <td>...</td>\n      <td>...</td>\n      <td>...</td>\n      <td>...</td>\n      <td>...</td>\n      <td>...</td>\n      <td>...</td>\n      <td>...</td>\n      <td>...</td>\n      <td>...</td>\n      <td>...</td>\n      <td>...</td>\n      <td>...</td>\n      <td>...</td>\n      <td>...</td>\n      <td>...</td>\n      <td>...</td>\n      <td>...</td>\n      <td>...</td>\n    </tr>\n    <tr>\n      <th>1507</th>\n      <td>Sub30_g5</td>\n      <td>6</td>\n      <td>10.466667</td>\n      <td>20.274664</td>\n      <td>0.257152</td>\n      <td>13.316469</td>\n      <td>22.382391</td>\n      <td>24.655754</td>\n      <td>11.339285</td>\n      <td>122.531510</td>\n      <td>...</td>\n      <td>-0.003371</td>\n      <td>0.272633</td>\n      <td>0.204179</td>\n      <td>-0.109836</td>\n      <td>-0.067147</td>\n      <td>-0.456037</td>\n      <td>-0.013331</td>\n      <td>-0.125618</td>\n      <td>-0.202032</td>\n      <td>-0.128672</td>\n    </tr>\n    <tr>\n      <th>1508</th>\n      <td>Sub30_g6</td>\n      <td>6</td>\n      <td>8.733333</td>\n      <td>19.639650</td>\n      <td>0.285645</td>\n      <td>12.824641</td>\n      <td>22.285406</td>\n      <td>24.579088</td>\n      <td>11.754447</td>\n      <td>210.436450</td>\n      <td>...</td>\n      <td>0.116483</td>\n      <td>0.257295</td>\n      <td>0.181340</td>\n      <td>-0.079939</td>\n      <td>-0.210461</td>\n      <td>-0.480470</td>\n      <td>0.058964</td>\n      <td>-0.094436</td>\n      <td>-0.154361</td>\n      <td>-0.289280</td>\n    </tr>\n    <tr>\n      <th>1509</th>\n      <td>Sub30_g7</td>\n      <td>6</td>\n      <td>8.800000</td>\n      <td>19.295887</td>\n      <td>0.298035</td>\n      <td>12.951897</td>\n      <td>21.393229</td>\n      <td>24.657038</td>\n      <td>11.705141</td>\n      <td>131.742230</td>\n      <td>...</td>\n      <td>-0.072002</td>\n      <td>0.154574</td>\n      <td>0.283339</td>\n      <td>-0.073323</td>\n      <td>-0.191571</td>\n      <td>-0.395051</td>\n      <td>0.098819</td>\n      <td>-0.349565</td>\n      <td>-0.088541</td>\n      <td>-0.358817</td>\n    </tr>\n    <tr>\n      <th>1510</th>\n      <td>Sub30_g8</td>\n      <td>6</td>\n      <td>10.733333</td>\n      <td>19.129637</td>\n      <td>0.280693</td>\n      <td>12.905231</td>\n      <td>21.626654</td>\n      <td>24.222975</td>\n      <td>11.317744</td>\n      <td>182.370400</td>\n      <td>...</td>\n      <td>0.057107</td>\n      <td>0.120299</td>\n      <td>0.061530</td>\n      <td>-0.058706</td>\n      <td>-0.393576</td>\n      <td>-0.277797</td>\n      <td>0.018282</td>\n      <td>-0.296795</td>\n      <td>-0.098138</td>\n      <td>0.146109</td>\n    </tr>\n    <tr>\n      <th>1511</th>\n      <td>Sub30_g9</td>\n      <td>6</td>\n      <td>10.733333</td>\n      <td>19.731976</td>\n      <td>0.286535</td>\n      <td>12.906751</td>\n      <td>21.745783</td>\n      <td>25.196392</td>\n      <td>12.289641</td>\n      <td>258.701780</td>\n      <td>...</td>\n      <td>-0.044978</td>\n      <td>0.198611</td>\n      <td>0.266224</td>\n      <td>0.028704</td>\n      <td>-0.072790</td>\n      <td>-0.481333</td>\n      <td>0.114761</td>\n      <td>-0.278598</td>\n      <td>-0.122786</td>\n      <td>-0.131715</td>\n    </tr>\n  </tbody>\n</table>\n<p>1512 rows × 859 columns</p>\n</div>"
     },
     "execution_count": 6,
     "metadata": {},
     "output_type": "execute_result"
    }
   ],
   "source": [
    "data"
   ],
   "metadata": {
    "collapsed": false,
    "ExecuteTime": {
     "end_time": "2024-03-21T22:24:03.131448Z",
     "start_time": "2024-03-21T22:24:03.115001Z"
    }
   },
   "id": "eafce763f9487f93",
   "execution_count": 6
  },
  {
   "cell_type": "code",
   "outputs": [
    {
     "name": "stdout",
     "output_type": "stream",
     "text": [
      "tensor([0, 0, 0,  ..., 6, 6, 6])\n",
      "tensor([[ 2.8789e+01,  3.0983e-01,  1.3366e+01,  ...,  4.4444e-02,\n",
      "          2.0608e-02, -2.7261e+01],\n",
      "        [ 2.8920e+01,  2.7103e-01,  2.4237e+01,  ...,  5.2308e-02,\n",
      "          4.5430e-02, -2.8365e+01],\n",
      "        [ 2.7654e+01,  2.9620e-01,  1.3142e+01,  ...,  6.5000e-02,\n",
      "          6.5765e-02, -2.9220e+01],\n",
      "        ...,\n",
      "        [ 1.9296e+01,  2.9804e-01,  1.2952e+01,  ...,  4.7143e-02,\n",
      "          2.8140e-02, -3.2524e+01],\n",
      "        [ 1.9130e+01,  2.8069e-01,  1.2905e+01,  ...,  4.4062e-02,\n",
      "          2.9032e-02, -3.5714e+01],\n",
      "        [ 1.9732e+01,  2.8654e-01,  1.2907e+01,  ...,  5.8077e-02,\n",
      "          3.2108e-02, -3.4275e+01]])\n",
      "tensor([[-0.0222, -0.1202,  0.4339,  ..., -0.1328, -0.2375, -0.1569],\n",
      "        [-0.1919, -0.1110,  0.4024,  ..., -0.1217, -0.3126,  0.2022],\n",
      "        [ 0.1220, -0.0955,  0.3898,  ..., -0.1811, -0.1499, -0.0439],\n",
      "        ...,\n",
      "        [ 0.2345, -0.1397,  0.5073,  ..., -0.3496, -0.0885, -0.3588],\n",
      "        [ 0.0008, -0.2807,  0.4013,  ..., -0.2968, -0.0981,  0.1461],\n",
      "        [-0.0447, -0.0090,  0.3766,  ..., -0.2786, -0.1228, -0.1317]])\n"
     ]
    }
   ],
   "source": [
    "audio = torch.zeros((args.n_samples, args.n_audio_features), dtype=torch.float32)\n",
    "text = torch.zeros((args.n_samples, args.n_text_features), dtype=torch.float32)\n",
    "label = torch.zeros((args.n_samples),dtype=torch.long)\n",
    "cnt = 0\n",
    "for i in range(1, 31):\n",
    "    if i <10:\n",
    "        sub_idx = f\"Sub0{i}\"\n",
    "    else:\n",
    "        sub_idx = f\"Sub{i}\"\n",
    "    filtered_data = data[data['file'].str.contains(sub_idx)]\n",
    "    \n",
    "    if not filtered_data.empty:\n",
    "        label[cnt*63:(cnt+1)*63] =  torch.from_numpy(filtered_data.loc[:,'Label'].to_numpy()).to(torch.long)\n",
    "        audio[cnt*63:(cnt+1)*63] = torch.from_numpy(filtered_data.loc[:,'audio_feature1':'audio_feature88'].to_numpy()).to(torch.float32)\n",
    "        text[cnt*63:(cnt+1)*63] = torch.from_numpy(filtered_data.loc[:,'text_feature1':].to_numpy()).to(torch.float32)\n",
    "        cnt += 1\n",
    "\n",
    "\n",
    "audio = torch.where(torch.isnan(audio), torch.zeros_like(audio), audio)\n",
    "text = torch.where(torch.isnan(text), torch.zeros_like(text), text)\n",
    "label = torch.where(torch.isnan(label), torch.zeros_like(label), label)\n",
    "\n",
    "print(label)\n",
    "print(audio)\n",
    "print(text)\n",
    "        \n",
    "    "
   ],
   "metadata": {
    "collapsed": false,
    "ExecuteTime": {
     "end_time": "2024-03-21T22:24:05.540571Z",
     "start_time": "2024-03-21T22:24:05.496779Z"
    }
   },
   "id": "667cf9eed07b2fed",
   "execution_count": 7
  },
  {
   "cell_type": "markdown",
   "source": [
    "# train test split"
   ],
   "metadata": {
    "collapsed": false
   },
   "id": "f2b2eae9d9b13665"
  },
  {
   "cell_type": "code",
   "outputs": [
    {
     "name": "stdout",
     "output_type": "stream",
     "text": [
      "========================================== Protocol 151 ==========================================\n",
      "\n",
      "\n",
      "******************* TEST fold 3:1 / Fold 1 *********************\n",
      "\n",
      " similarity matrix construction start...\n",
      "\n",
      "********** SSM fusion start ***********\n",
      "sparse kernel matrix construction start...\n",
      "1st feature based skm has been completed\n",
      "2nd feature based skm has been completed\n",
      "\n",
      "fused ssm construction start...\n",
      "time step :  0\n",
      "0.1701 sec\n",
      "Done\n",
      "**********************************************\n",
      "\n",
      " similarity matrix construction Done...\n",
      "directory already exists\n",
      "confusion_matrix_fold_1 is saved successfully\n",
      "*** Best ACC : 77.25 ***\n",
      "\n",
      "\n",
      "******************* TEST fold 3:1 / Fold 2 *********************\n",
      "\n",
      " similarity matrix construction start...\n",
      "\n",
      "********** SSM fusion start ***********\n",
      "sparse kernel matrix construction start...\n",
      "1st feature based skm has been completed\n",
      "2nd feature based skm has been completed\n",
      "\n",
      "fused ssm construction start...\n",
      "time step :  0\n",
      "0.1664 sec\n",
      "Done\n",
      "**********************************************\n",
      "\n",
      " similarity matrix construction Done...\n",
      "directory already exists\n",
      "confusion_matrix_fold_2 is saved successfully\n",
      "*** Best ACC : 69.58 ***\n",
      "\n",
      "\n",
      "******************* TEST fold 3:1 / Fold 3 *********************\n",
      "\n",
      " similarity matrix construction start...\n",
      "\n",
      "********** SSM fusion start ***********\n",
      "sparse kernel matrix construction start...\n",
      "1st feature based skm has been completed\n",
      "2nd feature based skm has been completed\n",
      "\n",
      "fused ssm construction start...\n",
      "time step :  0\n",
      "0.1201 sec\n",
      "Done\n",
      "**********************************************\n",
      "\n",
      " similarity matrix construction Done...\n",
      "directory already exists\n",
      "confusion_matrix_fold_3 is saved successfully\n",
      "*** Best ACC : 73.81 ***\n",
      "\n",
      "\n",
      "******************* TEST fold 3:1 / Fold 4 *********************\n",
      "\n",
      " similarity matrix construction start...\n",
      "\n",
      "********** SSM fusion start ***********\n",
      "sparse kernel matrix construction start...\n",
      "1st feature based skm has been completed\n",
      "2nd feature based skm has been completed\n",
      "\n",
      "fused ssm construction start...\n",
      "time step :  0\n",
      "0.1066 sec\n",
      "Done\n",
      "**********************************************\n",
      "\n",
      " similarity matrix construction Done...\n"
     ]
    },
    {
     "name": "stderr",
     "output_type": "stream",
     "text": [
      "/home/neuroai/users/dhkim/MER_senior/Save/Figures.py:45: RuntimeWarning: More than 20 figures have been opened. Figures created through the pyplot interface (`matplotlib.pyplot.figure`) are retained until explicitly closed and may consume too much memory. (To control this warning, see the rcParam `figure.max_open_warning`).\n",
      "  plt.matshow(matrix)\n"
     ]
    },
    {
     "name": "stdout",
     "output_type": "stream",
     "text": [
      "directory already exists\n",
      "confusion_matrix_fold_4 is saved successfully\n",
      "*** Best ACC : 73.81 ***\n",
      "\n",
      "**************** Best and Average acc of 24 folds bysubject *********************\n",
      "** Best ACC : [77.25, 69.58, 73.81, 73.81] **\n",
      " ** Avearge acc : 73.61,    std : 2.72 **\n",
      "\n",
      "\n",
      " Best Epochs : [353, 450, 263, 287]\n",
      "directory already exists\n",
      "protocol_151_best_acc_list_240321 is saved successfully\n"
     ]
    },
    {
     "data": {
      "text/plain": "<Figure size 640x480 with 0 Axes>"
     },
     "metadata": {},
     "output_type": "display_data"
    },
    {
     "data": {
      "text/plain": "<Figure size 480x480 with 0 Axes>"
     },
     "metadata": {},
     "output_type": "display_data"
    },
    {
     "data": {
      "text/plain": "<Figure size 480x480 with 0 Axes>"
     },
     "metadata": {},
     "output_type": "display_data"
    },
    {
     "data": {
      "text/plain": "<Figure size 480x480 with 0 Axes>"
     },
     "metadata": {},
     "output_type": "display_data"
    },
    {
     "data": {
      "text/plain": "<Figure size 480x480 with 0 Axes>"
     },
     "metadata": {},
     "output_type": "display_data"
    },
    {
     "data": {
      "text/plain": "<Figure size 480x480 with 0 Axes>"
     },
     "metadata": {},
     "output_type": "display_data"
    },
    {
     "data": {
      "text/plain": "<Figure size 480x480 with 0 Axes>"
     },
     "metadata": {},
     "output_type": "display_data"
    },
    {
     "data": {
      "text/plain": "<Figure size 480x480 with 0 Axes>"
     },
     "metadata": {},
     "output_type": "display_data"
    },
    {
     "data": {
      "text/plain": "<Figure size 480x480 with 0 Axes>"
     },
     "metadata": {},
     "output_type": "display_data"
    },
    {
     "data": {
      "text/plain": "<Figure size 480x480 with 0 Axes>"
     },
     "metadata": {},
     "output_type": "display_data"
    },
    {
     "data": {
      "text/plain": "<Figure size 480x480 with 0 Axes>"
     },
     "metadata": {},
     "output_type": "display_data"
    },
    {
     "data": {
      "text/plain": "<Figure size 480x480 with 0 Axes>"
     },
     "metadata": {},
     "output_type": "display_data"
    },
    {
     "data": {
      "text/plain": "<Figure size 480x480 with 0 Axes>"
     },
     "metadata": {},
     "output_type": "display_data"
    },
    {
     "data": {
      "text/plain": "<Figure size 480x480 with 0 Axes>"
     },
     "metadata": {},
     "output_type": "display_data"
    },
    {
     "data": {
      "text/plain": "<Figure size 480x480 with 0 Axes>"
     },
     "metadata": {},
     "output_type": "display_data"
    },
    {
     "data": {
      "text/plain": "<Figure size 480x480 with 0 Axes>"
     },
     "metadata": {},
     "output_type": "display_data"
    },
    {
     "data": {
      "text/plain": "<Figure size 480x480 with 0 Axes>"
     },
     "metadata": {},
     "output_type": "display_data"
    },
    {
     "data": {
      "text/plain": "<Figure size 480x480 with 0 Axes>"
     },
     "metadata": {},
     "output_type": "display_data"
    },
    {
     "data": {
      "text/plain": "<Figure size 480x480 with 0 Axes>"
     },
     "metadata": {},
     "output_type": "display_data"
    },
    {
     "data": {
      "text/plain": "<Figure size 480x480 with 0 Axes>"
     },
     "metadata": {},
     "output_type": "display_data"
    },
    {
     "data": {
      "text/plain": "<Figure size 480x480 with 2 Axes>",
      "image/png": "[encoded data removed]"
     },
     "metadata": {},
     "output_type": "display_data"
    }
   ],
   "source": [
    "n_labels_by_class = args.n_labels_by_class\n",
    "\n",
    "best_epoch_list = []\n",
    "best_acc_list = []\n",
    "orig_acc_list = []\n",
    "\n",
    "im = torch.eye(args.n_samples, dtype=torch.float32)\n",
    "print(\"========================================== Protocol {} ==========================================\".format(int(n_labels_by_class)))\n",
    "\n",
    "for i in range(4):\n",
    "    \n",
    "    print(\"\\n\\n******************* TEST fold 3:1 / Fold {} *********************\".format(i+1))\n",
    "    sub_idx = 'fold_'+str(i+1)\n",
    "    date = '240321'\n",
    "    \n",
    "    # axis 1 is layer norm\n",
    "    audio = normalization(audio, axis = 0, ntype='standardization')\n",
    "    text = normalization(text, axis=0, ntype='standardization')\n",
    "\n",
    "    print(\"\\n similarity matrix construction start...\")\n",
    "    asm = similarity_matrix(audio, scale = 0.9)\n",
    "    sasm = (asm+asm.T)/2\n",
    "    nsasm = symmetric_normalization(sasm,im)\n",
    "    \n",
    "    tsm = similarity_matrix(text, scale=0.9)\n",
    "    stsm = (tsm+tsm.T)/2\n",
    "    nstsm = symmetric_normalization(stsm,im)\n",
    "    \n",
    "    fsm = ssm_fusion(asm,nsasm,tsm,nstsm,args.k1, args.t1)\n",
    "    print(\"\\n similarity matrix construction Done...\")\n",
    "    \n",
    "    save_heatmap(asm, \"Audio Similarity Matrix\", \"Samples\", \"Samples\", args.structure_save_path+'asm_'+sub_idx+'_'+date+'.png', clim_min =None, clim_max =None, _dpi=300, _facecolor=\"#eeeeee\", _bbox_inches = 'tight')\n",
    "    save_heatmap(nsasm, \"Normalized Symmetric Audio Similarity Matrix\", \"Samples\", \"Samples\", args.structure_save_path+'nsasm_'+sub_idx+'_'+date+'.png', clim_min =None, clim_max =None, _dpi=300, _facecolor=\"#eeeeee\", _bbox_inches = 'tight')\n",
    "    save_heatmap(tsm, \"Text Similarity Matrix\", \"Samples\", \"Samples\", args.structure_save_path+'tsm_'+sub_idx+'_'+date+'.png', clim_min =None, clim_max =None, _dpi=300, _facecolor=\"#eeeeee\", _bbox_inches = 'tight')\n",
    "    save_heatmap(nstsm, \"Normalized Symmetric Text Similarity Matrix\", \"Samples\", \"Samples\", args.structure_save_path+'nstsm_'+sub_idx+'_'+date+'.png', clim_min =None, clim_max =None, _dpi=300, _facecolor=\"#eeeeee\", _bbox_inches = 'tight')\n",
    "\n",
    "    save_heatmap(fsm, \"Fused Symmetric Similarity Matrix\", \"Samples\", \"Samples\", args.structure_save_path+'/fsm_'+sub_idx+'_'+date+'.png',clim_min =None, clim_max =None, _dpi=300, _facecolor=\"#eeeeee\", _bbox_inches = 'tight')\n",
    "    \n",
    "\n",
    "    adj = fsm.to(device)\n",
    "    feature = concatenate_fusion(audio,text).to(device)\n",
    "    label = label.to(device)\n",
    "    \n",
    "    #                 save_heatmap(feature, \"Feature matrix\", \"Feature dimensions\", \"Sample index\", args.figure_save_path+'heatmap/'+sub_idx+'/feature/feature_matrix_'+date+'.png',clim_min =None, clim_max =None, _dpi=300, _facecolor=\"#eeeeee\", _bbox_inches = 'tight') \n",
    "    \n",
    "    identifier = torch.ones(args.n_samples, 1).bool()\n",
    "    # Later fix code - test subjects need to be randomly selected \n",
    "    identifier[i*63*6:(i+1)*63*6]=False\n",
    "    train_identifier = identifier.squeeze().to(device)\n",
    "    test_identifier = ~train_identifier\n",
    "    \n",
    "    activation = get_activation('celu')\n",
    "    gcn = GraphConvolution\n",
    "\n",
    "    encoder = GraphConvolutionalEncoder(args.n_features, args.gcn_hid_channels, args.gcn_out_channels, activation, base_model = gcn).to(device)\n",
    "    model = GRACE(encoder, args.n_features, args.gcn_out_channels, args.proj_hid_channels, args.out_channels, args.ptau).to(device)\n",
    "    optimizer = torch.optim.Adam(model.parameters(), lr = args.learning_rate, weight_decay=args.weight_decay)\n",
    "    \n",
    "    best_acc, best_epoch, best_z, result, cfm = GCA_train(model, optimizer, feature, adj, label,\n",
    "                                                                        train_identifier, test_identifier,\n",
    "                                                                        args,device, isdeap=False, verbose=False)\n",
    "    \n",
    "    experiment_type = 'subject_independent'\n",
    "    model_save_name = sub_idx+'_model'\n",
    "    model_path = args.model_save_path+experiment_type+'_'+date+'_'+model_save_name\n",
    "    torch.save(model.state_dict(), model_path)\n",
    "    \n",
    "    save_np(args.tensor_save_path,'confusion_matrix_'+sub_idx, cfm)\n",
    "    \n",
    "    print(\"*** Best ACC : {} ***\".format(round(best_acc.item(), 2)))\n",
    "    best_epoch_list.append(best_epoch)\n",
    "    best_acc_list.append(round(best_acc.item(), 2))\n",
    "    orig_acc_list.append(best_acc.item())\n",
    "    \n",
    "    \n",
    "    # sample = best_z.cpu().detach().numpy().copy()\n",
    "    #     drmodel = TSNE(n_components = 2, perplexity=50, n_iter_without_progress = 4000)\n",
    "    #     tsne_sample = StandardScaler().fit_transform(sample) # standardization\n",
    "    #     dr_result = drmodel.fit_transform(tsne_sample)\n",
    "    #     save_scatter(dr_result, label, best_acc,sub_idx, date, args.figure_save_path, visualization_type, train_identifier)\n",
    "    # if p == 0:    \n",
    "    #     save_np(arggs.tensor_save_path+'ablation3/'+sub_idx,'input_feature', feature)\n",
    "    #     save_np(args.tensor_save_path+'/ablation3/'+sub_idx,'DE_PSD_SNF_GCL', sample)\n",
    "    \n",
    "print(\"\\n**************** Best and Average acc of 24 folds bysubject *********************\")\n",
    "print(\"** Best ACC : {} **\\n ** Avearge acc : {},    std : {} **\\n\".format(best_acc_list, round(np.mean(orig_acc_list),2), round(np.std(orig_acc_list),2)))\n",
    "\n",
    "print(\"\\n Best Epochs : {}\".format(best_epoch_list))\n",
    "best_acc_list = np.array(best_acc_list)\n",
    "orig_acc_list = np.array(orig_acc_list)\n",
    "save_np(args.tensor_save_path,'protocol_'+str(n_labels_by_class)+'_best_acc_list_'+date, orig_acc_list)\n"
   ],
   "metadata": {
    "collapsed": false,
    "ExecuteTime": {
     "end_time": "2024-03-21T22:44:23.528808Z",
     "start_time": "2024-03-21T22:42:06.655717Z"
    }
   },
   "id": "771c340181fe818d",
   "execution_count": 9
  },
  {
   "cell_type": "code",
   "outputs": [
    {
     "name": "stdout",
     "output_type": "stream",
     "text": [
      "*** Best ACC : 80.95 ***\n",
      "\n",
      "**************** Best and Average acc of 24 folds by subject *********************\n",
      "** Best ACC : [80.95] **\n",
      " ** Avearge acc : 80.95,    std : 0.0 **\n",
      "\n",
      "\n",
      " Best Epochs : [130]\n",
      "directory already exists\n",
      "protocol_151_best_acc_list_240321 is saved successfully\n"
     ]
    }
   ],
   "source": [
    "print(\"*** Best ACC : {} ***\".format(round(best_acc.item(), 2)))\n",
    "best_epoch_list.append(best_epoch)\n",
    "best_acc_list.append(round(best_acc.item(), 2))\n",
    "orig_acc_list.append(best_acc.item())\n",
    "\n",
    "\n",
    "# sample = best_z.cpu().detach().numpy().copy()\n",
    "#     drmodel = TSNE(n_components = 2, perplexity=50, n_iter_without_progress = 4000)\n",
    "#     tsne_sample = StandardScaler().fit_transform(sample) # standardization\n",
    "#     dr_result = drmodel.fit_transform(tsne_sample)\n",
    "#     save_scatter(dr_result, label, best_acc,sub_idx, date, args.figure_save_path, visualization_type, train_identifier)\n",
    "# if p == 0:    \n",
    "#     save_np(arggs.tensor_save_path+'ablation3/'+sub_idx,'input_feature', feature)\n",
    "#     save_np(args.tensor_save_path+'/ablation3/'+sub_idx,'DE_PSD_SNF_GCL', sample)\n",
    "\n",
    "print(\"\\n**************** Best and Average acc of 24 folds by subject *********************\")\n",
    "print(\"** Best ACC : {} **\\n ** Avearge acc : {},    std : {} **\\n\".format(best_acc_list, round(np.mean(orig_acc_list),2), round(np.std(orig_acc_list),2)))\n",
    "\n",
    "print(\"\\n Best Epochs : {}\".format(best_epoch_list))\n",
    "best_acc_list = np.array(best_acc_list)\n",
    "orig_acc_list = np.array(orig_acc_list)\n",
    "save_np(args.tensor_save_path,'protocol_'+str(n_labels_by_class)+'_best_acc_list_'+date, orig_acc_list)"
   ],
   "metadata": {
    "collapsed": false,
    "ExecuteTime": {
     "end_time": "2024-03-21T22:22:00.688296Z",
     "start_time": "2024-03-21T22:22:00.672280Z"
    }
   },
   "id": "bf6c1032fe038fd6",
   "execution_count": 12
  },
  {
   "cell_type": "code",
   "outputs": [
    {
     "name": "stdout",
     "output_type": "stream",
     "text": [
      "directory already exists\n",
      "confusion_matrix_sub_1 is saved successfully\n"
     ]
    }
   ],
   "source": [
    "  save_np(args.tensor_save_path,'confusion_matrix_'+sub_idx, cfm)"
   ],
   "metadata": {
    "collapsed": false,
    "ExecuteTime": {
     "end_time": "2024-03-21T22:20:47.305381Z",
     "start_time": "2024-03-21T22:20:47.301278Z"
    }
   },
   "id": "98daae4e03889df4",
   "execution_count": 10
  },
  {
   "cell_type": "code",
   "outputs": [],
   "source": [
    "n_samples = len(label)\n",
    "n_classes = 7\n",
    "n_labels_by_class = 151\n",
    "labeled_data_identifier = torch.zeros(n_samples, dtype=torch.bool)\n",
    "for i in range(n_classes):\n",
    "    indices = (label == i).nonzero(as_tuple=True)[0]\n",
    "    labeled_idx = random.sample(indices.tolist(), n_labels_by_class)\n",
    "    labeled_data_identifier[labeled_idx] = True\n",
    "\n",
    "print(labeled_data_identifier.nonzero(as_tuple=True)[0].shape)"
   ],
   "metadata": {
    "collapsed": false,
    "ExecuteTime": {
     "end_time": "2024-03-21T22:14:55.456553Z",
     "start_time": "2024-03-21T22:14:55.456410Z"
    }
   },
   "id": "8b37a154120ca122",
   "execution_count": null
  },
  {
   "cell_type": "code",
   "outputs": [],
   "source": [
    "subject_de, _, subject_label = load_subject_data(args)\n",
    "\n",
    "\n",
    "visualization_type = 1\n",
    "\n",
    "n_labels_by_class = args.n_labels_by_class\n",
    "\n",
    "best_epoch_list = []\n",
    "best_acc_list = []\n",
    "orig_acc_list = []\n",
    "print(\"========================================== Protocol {} ==========================================\".format(int(n_labels_by_class)))\n",
    "\n",
    "print(\"\\n\\n******************* SUBJECT : {} *********************\".format(i+1))\n",
    "sub_idx = 'sub_all'\n",
    "date = '240321'\n",
    "\n",
    "sub_de = subject_de[i]\n",
    "#         sub_psd = subject_psd[i]\n",
    "sub_label = subject_label[i]\n",
    "#         sub_sample_counts = subject_sample_counts[i]\n",
    "\n",
    "de = flatten(sub_de, args.n_nodes*args.n_features)\n",
    "identifier = generate_identifiers(sub_label, n_labels_by_class, args.out_channels, args.seed,\n",
    "                isdeap=False)\n",
    "\n",
    "\n",
    "de = normalization(de, axis = 0, ntype='standardization')\n",
    "#         psd = normalization(psd, axis = 0, ntype='standardization')\n",
    "\n",
    "#                 de_ssm, de_nssm = ssm_construction(de, args.n_samples, args.de_k)\n",
    "#                 psd_ssm, psd_nssm = ssm_construction(psd, args.n_samples, args.psd_k)\n",
    "\n",
    "print(\"\\nDistance matrix construction start...\")\n",
    "de_dm = distance_matrix(de)\n",
    "#         psd_dm = distance_matrix(psd)\n",
    "print(\"\\nDistance matrix construction Done...\")\n",
    "\n",
    "de_neighbors = kneighbors(de_dm, args.n_samples, args.de_k)\n",
    "#         psd_neighbors = kneighbors(psd_dm, args.n_samples, args.psd_k)\n",
    "\n",
    "de_ssm, de_nssm = ssm_construction(de_dm,de_neighbors)\n",
    "#         psd_ssm, psd_nssm = ssm_construction(psd_dm,psd_neighbors)\n",
    "\n",
    "\n",
    "#                 save_np(args.tensor_save_path+sub_idx, 'de_ssm_'+date, de_ssm)\n",
    "#                 save_np(args.tensor_save_path+sub_idx, 'psd_ssm_'+date, psd_ssm)\n",
    "#                 save_np(args.tensor_save_path+sub_idx, 'de_nssm_'+date, de_nssm)\n",
    "#                 save_np(args.tensor_save_path+sub_idx, 'psd_nssm_'+date, psd_nssm)\n",
    "#                 save_heatmap(de_ssm, \"DE SSM\", \"Sample indices (axis i)\", \"Sample indices (axis i)\", args.figure_save_path+'heatmap/'+sub_idx+'/ssm/DE_SSM_'+date+'.png',clim_min =None, clim_max =None, _dpi=300, _facecolor=\"#eeeeee\", _bbox_inches = 'tight')\n",
    "#                 save_heatmap(psd_ssm, \"PSD SSM\", \"Sample indices (axis i)\", \"Sample indices (axis i)\", args.figure_save_path+'heatmap/'+sub_idx+'/ssm/PSD_SSM_'+date+'.png',clim_min =None, clim_max =None, _dpi=300, _facecolor=\"#eeeeee\", _bbox_inches = 'tight')\n",
    "#                 save_heatmap(de_nssm, \"DE NSSM\", \"Sample indices (axis i)\", \"Sample indices (axis i)\", args.figure_save_path+'heatmap/'+sub_idx+'/ssm/DE_NSSM_'+date+'.png',clim_min =None, clim_max =None, _dpi=300, _facecolor=\"#eeeeee\", _bbox_inches = 'tight')\n",
    "#                 save_heatmap(psd_nssm, \"PSD NSSM\", \"Sample indices (axis i)\", \"Sample indices (axis i)\", args.figure_save_path+'heatmap/'+sub_idx+'/ssm/PSD_NSSM_'+date+'.png',clim_min =None, clim_max =None, _dpi=300, _facecolor=\"#eeeeee\", _bbox_inches = 'tight')\n",
    "\n",
    "#         fsm = ssm_fusion(de_ssm,psd_ssm, de_nssm, psd_nssm, args.k1, args.t1)\n",
    "#                 save_np(args.tensor_save_path+sub_idx, 'fused_ssm_'+date, fsm)\n",
    "#                 save_heatmap(fsm, \"Fused SSM\", \"Sample indices (axis i)\", \"Sample indices (axis i)\", args.figure_save_path+'heatmap/'+sub_idx+'/fused_ssm/Fused_SSM_'+date+'.png',clim_min =None, clim_max =None, _dpi=300, _facecolor=\"#eeeeee\", _bbox_inches = 'tight')\n",
    "\n",
    "#         adj = fsm\n",
    "#                 save_np(args.tensor_save_path+sub_idx, 'adjacency_matrix_'+date, adj)\n",
    "#                 save_heatmap(adj, \"Normalized Adjacecy Matrix\", \"Sample indices (axis i)\", \"Sample indices (axis i)\", args.figure_save_path+'heatmap/'+sub_idx+'/adjacency_matrix/Adjacecny_Matrix_'+date+'.png',clim_min =None, clim_max =None, _dpi=300, _facecolor=\"#eeeeee\", _bbox_inches = 'tight')\n",
    "\n",
    "#         feature = input_feature(de, psd)\n",
    "\n",
    "adj = de_ssm\n",
    "feature = de\n",
    "label = sub_label\n",
    "\n",
    "#                 save_heatmap(feature, \"Feature matrix\", \"Feature dimensions\", \"Sample index\", args.figure_save_path+'heatmap/'+sub_idx+'/feature/feature_matrix_'+date+'.png',clim_min =None, clim_max =None, _dpi=300, _facecolor=\"#eeeeee\", _bbox_inches = 'tight') \n",
    "\n",
    "feature = torch.from_numpy(feature).to(torch.float32).to(device)\n",
    "adj = torch.from_numpy(adj).to(torch.float32).to(device)\n",
    "label = torch.from_numpy(label).to(torch.long).to(device)\n",
    "\n",
    "identifier = torch.from_numpy(identifier).bool()\n",
    "train_identifier = identifier.to(device)\n",
    "isunlabeled = ~identifier\n",
    "\n",
    "test_identifier = isunlabeled.to(device)\n",
    "\n",
    "activation = get_activation('celu')\n",
    "gcn = GraphConvolution\n",
    "\n",
    "encoder = Encoder(args.feature_dimension, args.gcn_hid_channels, args.gcn_out_channels, activation, args.seed, base_model = gcn).to(device)\n",
    "model = GRACE(encoder, args.feature_dimension, args.gcn_out_channels, args.proj_hid_channels, args.out_channels, args.ptau).to(device)\n",
    "optimizer = torch.optim.Adam(model.parameters(), lr = args.learning_rate)\n",
    "\n",
    "\n",
    "best_acc, best_epoch, best_z, result, cfm = GCA_train(model, optimizer, feature, adj, label,\n",
    "                                                                    train_identifier, test_identifier,\n",
    "                                                                    args,device, isdeap=False, verbose=True)\n",
    "\n",
    "#                 experiment_type = 'subject_dependent'\n",
    "#                 model_save_name = sub_idx+'_model'\n",
    "#                 model_path = args.model_save_path+experiment_type+'/'+date+'/'+model_save_name\n",
    "#                 torch.save(model.state_dict(), model_path)\n",
    "\n",
    "save_np(args.tensor_save_path+'main/confusion_matrix/'+sub_idx,'protocol_'+str(n_labels_by_class)+'_confusion_matrix', cfm)\n",
    "\n",
    "print(\"*** Best ACC : {} ***\".format(round(best_acc.item(), 2)))\n",
    "best_epoch_list.append(best_epoch)\n",
    "best_acc_list.append(round(best_acc.item(), 2))\n",
    "orig_acc_list.append(best_acc.item())\n",
    "\n",
    "\n",
    "\n",
    "sample = best_z.cpu().detach().numpy().copy()\n",
    "#     drmodel = TSNE(n_components = 2, perplexity=50, n_iter_without_progress = 4000)\n",
    "#     tsne_sample = StandardScaler().fit_transform(sample) # standardization\n",
    "#     dr_result = drmodel.fit_transform(tsne_sample)\n",
    "#     save_scatter(dr_result, label, best_acc,sub_idx, date, args.figure_save_path, visualization_type, train_identifier)\n",
    "if p == 0:    \n",
    "    save_np(arggs.tensor_save_path+'ablation3/'+sub_idx,'input_feature', feature)\n",
    "    save_np(args.tensor_save_path+'/ablation3/'+sub_idx,'DE_PSD_SNF_GCL', sample)\n",
    "\n",
    "print(\"\\n**************** Best acc by subject *********************\")\n",
    "print(\"** Best ACC : {} **\\n ** Avearge acc : {},    std : {} **\\n\".format(best_acc_list, round(np.mean(orig_acc_list),2), round(np.std(orig_acc_list),2)))\n",
    "\n",
    "print(\"\\n Best Epochs : {}\".format(best_epoch_list))\n",
    "best_acc_list = np.array(best_acc_list)\n",
    "orig_acc_list = np.array(orig_acc_list)\n",
    "save_np(args.tensor_save_path+'main/', 'protocol_'+str(n_labels_by_class)+'_best_acc_list_'+date, orig_acc_list)\n",
    "\n",
    "save_np(args.tensor_save_path+'ablation2/', 'DE_PSD_SNF_GCL_protocol_'+str(n_labels_by_class)+'_best_acc_list_'+date, orig_acc_list)\n"
   ],
   "metadata": {
    "collapsed": false
   },
   "id": "5706f8b8f80988e4"
  },
  {
   "cell_type": "code",
   "outputs": [],
   "source": [],
   "metadata": {
    "collapsed": false
   },
   "id": "db0864dbe726d672"
  }
 ],
 "metadata": {
  "kernelspec": {
   "display_name": "py39_dh",
   "language": "python",
   "name": "py39_dh"
  },
  "language_info": {
   "codemirror_mode": {
    "name": "ipython",
    "version": 3
   },
   "file_extension": ".py",
   "mimetype": "text/x-python",
   "name": "python",
   "nbconvert_exporter": "python",
   "pygments_lexer": "ipython3",
   "version": "3.9.18"
  }
 },
 "nbformat": 4,
 "nbformat_minor": 5
}
